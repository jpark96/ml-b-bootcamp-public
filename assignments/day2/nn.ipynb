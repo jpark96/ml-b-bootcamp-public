{
 "cells": [
  {
   "cell_type": "markdown",
   "metadata": {},
   "source": [
    "# Classifying MNIST with Neural Networks\n",
    "\n",
    "In this assignment we are going to create a simple two-layer neural network to try to classify the MNIST dataset, often seen as the \"Hello World!\" of machine learning. By the end of this, you should have a neural network that can achieve around 95% test accuracy on the dataset.\n",
    "\n",
    "First, let's import and format the data."
   ]
  },
  {
   "cell_type": "code",
   "execution_count": 1,
   "metadata": {
    "collapsed": false
   },
   "outputs": [],
   "source": [
    "%matplotlib inline\n",
    "\n",
    "import math\n",
    "import matplotlib.pyplot as plt\n",
    "import numpy as np\n",
    "import numpy.random as npr\n",
    "import scipy.io as sio\n",
    "\n",
    "plt.gray()\n",
    "\n",
    "train_file = sio.loadmat(\"train.mat\")\n",
    "test_file = sio.loadmat(\"test.mat\")\n",
    "\n",
    "# Transpose images\n",
    "X = train_file['train_images']\n",
    "Xtest = test_file['test_images']\n",
    "\n",
    "X = train_file['train_images'].T.reshape(60000,784)\n",
    "Y = train_file['train_labels']\n",
    "Xtest = test_file['test_images'].T.reshape(784, 10000).T"
   ]
  },
  {
   "cell_type": "markdown",
   "metadata": {},
   "source": [
    "Let's see what kind of data we'll be classifying. Evaluate the following cell several times to take a look at a few of the training examples."
   ]
  },
  {
   "cell_type": "code",
   "execution_count": 4,
   "metadata": {
    "collapsed": false,
    "scrolled": true
   },
   "outputs": [
    {
     "data": {
      "text/plain": [
       "<matplotlib.image.AxesImage at 0x10d8a87f0>"
      ]
     },
     "execution_count": 4,
     "metadata": {},
     "output_type": "execute_result"
    },
    {
     "data": {
      "image/png": "[encoded data removed]",
      "text/plain": [
       "<matplotlib.figure.Figure at 0x1030f8400>"
      ]
     },
     "metadata": {},
     "output_type": "display_data"
    }
   ],
   "source": [
    "plt.imshow(X[npr.randint(0, Y.shape[0])].reshape(28, 28).T)"
   ]
  },
  {
   "cell_type": "markdown",
   "metadata": {},
   "source": [
    "Now we need to split our data into training and validation sets. Remember that the two sets should be sampled randomly to prevent biased data."
   ]
  },
  {
   "cell_type": "code",
   "execution_count": 3,
   "metadata": {
    "collapsed": false
   },
   "outputs": [],
   "source": [
    "# Shuffle and pick Xvalidate\n",
    "A = npr.permutation(X.shape[0])\n",
    "X = X[A]\n",
    "Y = Y[A]\n",
    "\n",
    "Xtrain = X[0:50000]\n",
    "Ytrain = Y[0:50000]\n",
    "Xvalidate = X[50000:]\n",
    "Yvalidate = Y[50000:]"
   ]
  },
  {
   "cell_type": "markdown",
   "metadata": {},
   "source": [
    "The following code is used for preprocessing the data and making it easier to deal with, making making the data be normalized with a mean of 0 and standard deviation of 1, and using one-hot encoding to turn the labels into vectors with binary elements."
   ]
  },
  {
   "cell_type": "code",
   "execution_count": 5,
   "metadata": {
    "collapsed": false
   },
   "outputs": [],
   "source": [
    "# Preprocess data\n",
    "def normalizeColumns(X):\n",
    "    newX = X.astype(float)\n",
    "    for i in range(X.shape[1]):\n",
    "        mean = np.mean(X[:,i])\n",
    "        std = np.std(X[:,i])\n",
    "        newX[:, i] = np.dot(1 / (std + .0001), X[:, i] - np.dot(mean, np.ones(X.shape[0])))\n",
    "    return newX\n",
    "def log(X):\n",
    "    f = np.vectorize(lambda x: math.log(x + 0.1))\n",
    "    return f(X)\n",
    "def extendByOne(X):\n",
    "    return np.vstack((X, np.ones((1,X.shape[1]))))\n",
    "def binarize(X):\n",
    "    f = np.vectorize(lambda x: 1 if x > 0 else 0)\n",
    "    return f(X)\n",
    "def oneHotEncoding(y):\n",
    "    Y = np.zeros((y.shape[0], 10))\n",
    "    for i in range(Y.shape[0]):\n",
    "        Y[i, y[i]] += 1\n",
    "    return Y\n",
    "\n",
    "X = normalizeColumns(X)\n",
    "Xtrain = normalizeColumns(Xtrain)\n",
    "Xvalidate = normalizeColumns(Xvalidate)\n",
    "Xtest = normalizeColumns(Xtest)\n",
    "\n",
    "Y = oneHotEncoding(Y)\n",
    "Ytrain = oneHotEncoding(Ytrain)\n",
    "Yvalidate = oneHotEncoding(Yvalidate)"
   ]
  },
  {
   "cell_type": "markdown",
   "metadata": {},
   "source": [
    "## Neural Network Class\n",
    "\n",
    "Here you will begin to implement the neural networks. This is where the bulk of the work for the assignment will be done. Let's first start off with computing the sigmoid activation function. We will be using helper functions for vectorization to better optimize the computations, but knowing the details is not necessary for this assignment."
   ]
  },
  {
   "cell_type": "code",
   "execution_count": 6,
   "metadata": {
    "collapsed": false
   },
   "outputs": [],
   "source": [
    "def sigmoid(x):\n",
    "    def helper(xj):\n",
    "        ##############################\n",
    "        # STUDENT SOLUTION GOES HERE #\n",
    "        ##############################\n",
    "        \n",
    "        \n",
    "        s =\n",
    "        \n",
    "        ##############################\n",
    "        # answer: 1.0 / (1.0 + math.exp(-x))\n",
    "        return s\n",
    "    g = np.vectorize(helper)\n",
    "    return g(x)"
   ]
  },
  {
   "cell_type": "markdown",
   "metadata": {},
   "source": [
    "Next, let's write the function to calculate the loss function. For this assignment, we'll be using cross entropy loss."
   ]
  },
  {
   "cell_type": "code",
   "execution_count": null,
   "metadata": {
    "collapsed": true
   },
   "outputs": [],
   "source": [
    "def crossEntropyLoss(y, z):\n",
    "    def helper(yj, zj):\n",
    "        ##############################\n",
    "        # STUDENT SOLUTION GOES HERE #\n",
    "        ##############################\n",
    "        \n",
    "        \n",
    "        loss =\n",
    "        \n",
    "        ##############################\n",
    "        # answer: return yj * math.log(zj + .001) + (1 - yj) * math.log(1 - zj + .001)\n",
    "        return loss\n",
    "    g = np.vectorize(helper)\n",
    "    return - np.sum(g(y, z))"
   ]
  },
  {
   "cell_type": "markdown",
   "metadata": {},
   "source": [
    "Okay, now we're getting to the meat of the algorithm, where the actual neural network is being built.\n",
    "### TODO: FIGURE OUT HOW TO MAKE A PROBLEM FROM FEEDFORWARD AND BACKPROP"
   ]
  },
  {
   "cell_type": "code",
   "execution_count": 7,
   "metadata": {
    "collapsed": false
   },
   "outputs": [],
   "source": [
    "class NeuralNetwork:\n",
    "    def __init__(self):\n",
    "        self.V = None\n",
    "        self.W = None\n",
    "    \n",
    "    def calculateCELoss(self, X, Y):\n",
    "        if self.V == None or self.W == None:\n",
    "            print(\"Train the Data!\")\n",
    "            return\n",
    "        V = self.V\n",
    "        W = self.W\n",
    "        \n",
    "        # Feedforward\n",
    "        z2 = V.dot(extendByOne(np.transpose(X)))\n",
    "        a2 = extendByOne(sigmoid(z2))\n",
    "        z3 = W.dot(a2)\n",
    "        Z = sigmoid(z3)\n",
    "        \n",
    "        return crossEntropyLoss(Y.T, Z)\n",
    "        # Find Loss\n",
    "        #def helper(yj, zj):\n",
    "        #    return yj * math.log(zj + .001) + (1 - yj) * math.log(1 - zj + .001)\n",
    "        #g = np.vectorize(helper)\n",
    "        #return - np.sum(g(Y.T, Z))\n",
    "\n",
    "    def trainNNCrossEntropy(self, X, Y, num_epochs=5, num_hlayers=200, print_loss=False, step_size=.01):\n",
    "        # Initialize edge weights\n",
    "        np.random.seed(0)\n",
    "        V = np.random.normal(0, 0.1, (num_hlayers, X.shape[1] + 1))\n",
    "        W = np.random.normal(0, 0.1, (Y.shape[1], num_hlayers + 1))\n",
    "        \n",
    "        for i in range(int(num_epochs * X.shape[0])):\n",
    "            x = extendByOne(X[i % X.shape[0]].reshape(X.shape[1], 1))\n",
    "            y = Y[i % Y.shape[0]].reshape(Y.shape[1], 1)\n",
    "            \n",
    "            # Feedforward\n",
    "            z2 = V.dot(x)\n",
    "            a2 = extendByOne(sigmoid(z2))\n",
    "            z3 = W.dot(a2)\n",
    "            yHat = sigmoid(z3)\n",
    "\n",
    "            # Print Loss\n",
    "            if print_loss and i % (X.shape[0] * num_epochs / 100) == 0:\n",
    "                print(\"Loss at iteration {0} is {1}.\".format(i, self.calculateCELoss(X, Y)))\n",
    "            \n",
    "            # Backpropagation\n",
    "            delta3 = -(y - yHat)\n",
    "            dW = delta3.dot(a2.T)\n",
    "            delta2 = W.T.dot(delta3) * (1 - np.square(a2))\n",
    "            dV = delta2[0:num_hlayers].dot(x.T)\n",
    "            \n",
    "            \n",
    "            W = W - step_size * dW\n",
    "            V = V - step_size * dV\n",
    "                \n",
    "            self.W = W\n",
    "            self.V = V\n",
    "        \n",
    "    def predictNN(self, X):\n",
    "        if self.V == None or self.W == None:\n",
    "            print(\"Train the Data!\")\n",
    "            return\n",
    "        V = self.V\n",
    "        W = self.W\n",
    "        \n",
    "        # Feedforward\n",
    "        H = sigmoid(V.dot(extendByOne(np.transpose(X))))\n",
    "        Z = sigmoid(W.dot(extendByOne(H)))\n",
    "        \n",
    "        # Make predictions\n",
    "        arg = np.argmax(Z, axis=0)\n",
    "        Y = np.zeros((Z.shape[1],Z.shape[0]))\n",
    "        for i in range(arg.shape[0]):\n",
    "            Y[i, arg[i]] += 1\n",
    "        return Y"
   ]
  },
  {
   "cell_type": "markdown",
   "metadata": {},
   "source": [
    "## Training and Validation Errors"
   ]
  },
  {
   "cell_type": "markdown",
   "metadata": {
    "collapsed": false
   },
   "source": [
    "### Cross Entropy Error"
   ]
  },
  {
   "cell_type": "code",
   "execution_count": 8,
   "metadata": {
    "collapsed": true
   },
   "outputs": [],
   "source": [
    "def benchmark(Y_pred, Y_true):\n",
    "    y_pred = np.argmax(Y_pred, axis=1)\n",
    "    y_true = np.argmax(Y_true, axis=1)\n",
    "    return np.mean(y_pred != y_true)"
   ]
  },
  {
   "cell_type": "code",
   "execution_count": 9,
   "metadata": {
    "collapsed": false,
    "scrolled": true
   },
   "outputs": [
    {
     "name": "stdout",
     "output_type": "stream",
     "text": [
      "Train the Data!\n",
      "Loss at iteration 0 is None.\n",
      "Loss at iteration 50000 is 17947.01800950623.\n",
      "Loss at iteration 100000 is 11849.3576774966.\n",
      "Loss at iteration 150000 is 8779.547419452043.\n",
      "Loss at iteration 200000 is 6971.827386020055.\n",
      "Loss at iteration 250000 is 4977.713981728528.\n",
      "Loss at iteration 300000 is 3928.8458706345905.\n",
      "Loss at iteration 350000 is 3256.605111456928.\n",
      "Loss at iteration 400000 is 2485.531222178772.\n",
      "Loss at iteration 450000 is 1915.3674590203495.\n"
     ]
    },
    {
     "name": "stderr",
     "output_type": "stream",
     "text": [
      "/Users/derasagis/anaconda3/lib/python3.4/site-packages/ipykernel/__main__.py:7: FutureWarning: comparison to `None` will result in an elementwise object comparison in the future.\n"
     ]
    }
   ],
   "source": [
    "# Validation on MNIST\n",
    "classifier = NeuralNetwork()\n",
    "classifier.trainNNCrossEntropy(Xtrain, Ytrain, print_loss=True, step_size=.01)"
   ]
  },
  {
   "cell_type": "code",
   "execution_count": 12,
   "metadata": {
    "collapsed": false
   },
   "outputs": [
    {
     "name": "stdout",
     "output_type": "stream",
     "text": [
      "Training Error for Cross Entropy: 0.00284\n"
     ]
    },
    {
     "name": "stderr",
     "output_type": "stream",
     "text": [
      "/Users/derasagis/anaconda3/lib/python3.4/site-packages/ipykernel/__main__.py:61: FutureWarning: comparison to `None` will result in an elementwise object comparison in the future.\n"
     ]
    }
   ],
   "source": [
    "# Training error on MNIST\n",
    "Y_pred = classifier.predictNN(Xtrain)\n",
    "error_rate = benchmark(Y_pred, Ytrain)\n",
    "print(\"Training Error for Cross Entropy: \" + str(error_rate))"
   ]
  },
  {
   "cell_type": "code",
   "execution_count": 13,
   "metadata": {
    "collapsed": false
   },
   "outputs": [
    {
     "name": "stdout",
     "output_type": "stream",
     "text": [
      "Validation Error for Cross Entropy: 0.0487\n"
     ]
    },
    {
     "name": "stderr",
     "output_type": "stream",
     "text": [
      "/Users/derasagis/anaconda3/lib/python3.4/site-packages/ipykernel/__main__.py:61: FutureWarning: comparison to `None` will result in an elementwise object comparison in the future.\n"
     ]
    }
   ],
   "source": [
    "# Validation error on MNIST\n",
    "Y_pred = classifier.predictNN(Xvalidate)\n",
    "error_rate = benchmark(Y_pred, Yvalidate)\n",
    "print(\"Validation Error for Cross Entropy: \" + str(error_rate))"
   ]
  },
  {
   "cell_type": "markdown",
   "metadata": {
    "collapsed": false
   },
   "source": [
    "## Runtime and Plots"
   ]
  },
  {
   "cell_type": "code",
   "execution_count": 15,
   "metadata": {
    "collapsed": false
   },
   "outputs": [
    {
     "name": "stdout",
     "output_type": "stream",
     "text": [
      "Time elapsed: 60.09073781967163\n"
     ]
    }
   ],
   "source": [
    "# Cross Entropy Time\n",
    "import time\n",
    "start = time.time()\n",
    "classifier = NeuralNetwork()\n",
    "classifier.trainNNCrossEntropy(Xtrain, Ytrain, num_epochs=1, print_loss=False, step_size=.01)\n",
    "end = time.time()\n",
    "print(\"Time elapsed: {0}\".format(end - start))"
   ]
  },
  {
   "cell_type": "code",
   "execution_count": 16,
   "metadata": {
    "collapsed": false
   },
   "outputs": [
    {
     "name": "stderr",
     "output_type": "stream",
     "text": [
      "/Users/derasagis/anaconda3/lib/python3.4/site-packages/ipykernel/__main__.py:61: FutureWarning: comparison to `None` will result in an elementwise object comparison in the future.\n"
     ]
    }
   ],
   "source": [
    "# Plot Cross Entropy Error\n",
    "classifier = NeuralNetwork()\n",
    "iterations = [1000 * i for i in range(10)]\n",
    "error_rates = []\n",
    "for n in [.02 * (n + 1) for n in range(10)]:\n",
    "    classifier.trainNNCrossEntropy(Xtrain, Ytrain, num_epochs=n, print_loss=False, step_size=.01)\n",
    "    y_pred = classifier.predictNN(Xtrain)\n",
    "    error_rates.append(benchmark(y_pred, Ytrain))"
   ]
  },
  {
   "cell_type": "code",
   "execution_count": 17,
   "metadata": {
    "collapsed": false
   },
   "outputs": [
    {
     "data": {
      "text/plain": [
       "[<matplotlib.lines.Line2D at 0x1415efda0>]"
      ]
     },
     "execution_count": 17,
     "metadata": {},
     "output_type": "execute_result"
    },
    {
     "data": {
      "image/png": "[encoded data removed]",
      "text/plain": [
       "<matplotlib.figure.Figure at 0x10d955668>"
      ]
     },
     "metadata": {},
     "output_type": "display_data"
    }
   ],
   "source": [
    "plt.plot(iterations, error_rates)"
   ]
  },
  {
   "cell_type": "code",
   "execution_count": null,
   "metadata": {
    "collapsed": true
   },
   "outputs": [],
   "source": []
  }
 ],
 "metadata": {
  "kernelspec": {
   "display_name": "Python 3",
   "language": "python",
   "name": "python3"
  },
  "language_info": {
   "codemirror_mode": {
    "name": "ipython",
    "version": 3
   },
   "file_extension": ".py",
   "mimetype": "text/x-python",
   "name": "python",
   "nbconvert_exporter": "python",
   "pygments_lexer": "ipython3",
   "version": "3.4.4"
  }
 },
 "nbformat": 4,
 "nbformat_minor": 0
}
